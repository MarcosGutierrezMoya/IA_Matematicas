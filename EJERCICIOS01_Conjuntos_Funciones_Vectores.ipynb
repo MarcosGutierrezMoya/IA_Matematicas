{
 "cells": [
  {
   "cell_type": "markdown",
   "id": "7034ef48",
   "metadata": {},
   "source": [
    "## Ejercicios de repaso del módulo de Matemáticas 101"
   ]
  },
  {
   "cell_type": "markdown",
   "id": "201db50c",
   "metadata": {},
   "source": [
    "### Ejercicio 1: Conjuntos disjuntos\n",
    "\n",
    "Implementa una función `son_disjuntos` que diga si dos conjuntos son disjuntos o no. Para ello, no puedes utilizar directamente `intersection` ni el operador `&`.\n",
    "\n",
    "Aplica la función a los siguientes conjuntos que tendrás que crear previamente en Python:\n",
    "\n",
    "- Los números pares y los números múltiplos de 5, desde el 0 hasta el 100\n",
    "- Las potencias de 2 y los múltiplos de 10, desde el 1 hasta el 1000"
   ]
  },
  {
   "cell_type": "code",
   "execution_count": 9,
   "id": "c8f28c98",
   "metadata": {},
   "outputs": [],
   "source": [
    "import math\n",
    "def son_disjuntos(A,B):\n",
    "    for elem in A:\n",
    "        if elem in B:\n",
    "            return False\n",
    "    return True"
   ]
  },
  {
   "cell_type": "code",
   "execution_count": 10,
   "id": "6f3532e6",
   "metadata": {},
   "outputs": [
    {
     "data": {
      "text/plain": [
       "False"
      ]
     },
     "execution_count": 10,
     "metadata": {},
     "output_type": "execute_result"
    }
   ],
   "source": [
    "evens = {num for num in range(101) if num % 2 == 0}\n",
    "mult5 = {num for num in range(101) if num % 5 == 0}\n",
    "\n",
    "son_disjuntos(evens,mult5)"
   ]
  },
  {
   "cell_type": "code",
   "execution_count": 11,
   "id": "5a6811f2",
   "metadata": {},
   "outputs": [
    {
     "data": {
      "text/plain": [
       "False"
      ]
     },
     "execution_count": 11,
     "metadata": {},
     "output_type": "execute_result"
    }
   ],
   "source": [
    "pow2 = {num ** 2 for num in range(1001)}\n",
    "mult10 = {num for num in range(1001) if num % 10 == 0}\n",
    "\n",
    "son_disjuntos(pow2,mult10)"
   ]
  },
  {
   "cell_type": "markdown",
   "id": "c551148c",
   "metadata": {},
   "source": [
    "OJO! Pueden pasar cosas raras con las potencias de 2 debido a los errores de aproximación que ya hemos visto."
   ]
  },
  {
   "cell_type": "code",
   "execution_count": 5,
   "id": "985f5fff",
   "metadata": {},
   "outputs": [
    {
     "data": {
      "text/plain": [
       "False"
      ]
     },
     "execution_count": 5,
     "metadata": {},
     "output_type": "execute_result"
    }
   ],
   "source": [
    "math.log(2**29, 2).is_integer()"
   ]
  },
  {
   "cell_type": "code",
   "execution_count": 6,
   "id": "9cd6455e",
   "metadata": {},
   "outputs": [
    {
     "data": {
      "text/plain": [
       "True"
      ]
     },
     "execution_count": 6,
     "metadata": {},
     "output_type": "execute_result"
    }
   ],
   "source": [
    "math.log2(2**49-1).is_integer()"
   ]
  },
  {
   "cell_type": "code",
   "execution_count": null,
   "id": "40566985",
   "metadata": {},
   "outputs": [],
   "source": [
    "son_disjuntos(C1, C2)"
   ]
  },
  {
   "cell_type": "markdown",
   "id": "7a433182",
   "metadata": {},
   "source": [
    "### Ejercicio 2: Subconjuntos\n",
    "\n",
    "Implementa una función `es_subconjunto` que diga si dados dos subconjuntos uno de ellos es subconjunto de otro, y nos diga cuál. Para ello, no puedes utilizar directamente `issubset` ni el operador `<=`.\n",
    "\n",
    "Aplica la función a los siguientes conjuntos que tendrás que crear previamente en Python:\n",
    "\n",
    "- Los posibles resultados combinados de lanzar un dado y una moneda y los de lanzar dos monedas\n",
    "- Los cuadrados perfectos de dos cifras y los números pares de dos cifras"
   ]
  },
  {
   "cell_type": "code",
   "execution_count": 19,
   "id": "ab863b5d",
   "metadata": {},
   "outputs": [
    {
     "name": "stdout",
     "output_type": "stream",
     "text": [
      "A es el subconjunto de B\n",
      "A es el subconjunto de B\n",
      "Ninguno es el subconjunto\n"
     ]
    }
   ],
   "source": [
    "def es_subconjunto(A,B):\n",
    "    is_a_sub = True\n",
    "    is_b_sub = True\n",
    "    answer = \"\"\n",
    "    \n",
    "    for elem in A:\n",
    "        if elem not in B:\n",
    "            is_a_sub = False\n",
    "\n",
    "    if not is_a_sub:\n",
    "        for elem in B:\n",
    "            if elem not in A:\n",
    "                is_b_sub = False\n",
    "\n",
    "    if is_b_sub:\n",
    "        answer = \"A es el subconjunto de B\"\n",
    "    elif is_a_sub:\n",
    "        answer = \"B es el subconjunto de A\"\n",
    "    else:\n",
    "        answer = \"Ninguno es el subconjunto\"\n",
    "    \n",
    "    return answer\n",
    "\n",
    "print(es_subconjunto({1,2}, {1,2,3}))\n",
    "print(es_subconjunto(set(), {1,2,3,4}))\n",
    "print(es_subconjunto({0,1}, {1,2,3,4}))"
   ]
  },
  {
   "cell_type": "code",
   "execution_count": 26,
   "id": "4fa35c48",
   "metadata": {},
   "outputs": [
    {
     "name": "stdout",
     "output_type": "stream",
     "text": [
      "A es el subconjunto de B\n"
     ]
    }
   ],
   "source": [
    "import random\n",
    "# Lanzar un dado y una moneda\n",
    "print(es_subconjunto({random.randint(1,6)}, {random.randint(1,2)}))"
   ]
  },
  {
   "cell_type": "code",
   "execution_count": 39,
   "id": "bc0d73c0",
   "metadata": {},
   "outputs": [
    {
     "name": "stdout",
     "output_type": "stream",
     "text": [
      "A es el subconjunto de B\n"
     ]
    }
   ],
   "source": [
    "# Lanzar dos monedas distintas\n",
    "print(es_subconjunto({random.randint(1,2)}, {random.randint(1,2)}))"
   ]
  },
  {
   "cell_type": "code",
   "execution_count": null,
   "id": "586cdcf3",
   "metadata": {},
   "outputs": [],
   "source": [
    "# Cuadrados perfectos\n",
    "\n",
    "# Números pares\n",
    "print(es_subconjunto({num for num in range()}, {random.randint(1,2)}))"
   ]
  },
  {
   "cell_type": "code",
   "execution_count": null,
   "id": "71c36cc5",
   "metadata": {},
   "outputs": [],
   "source": []
  },
  {
   "cell_type": "markdown",
   "id": "64589df0",
   "metadata": {},
   "source": [
    "### Ejercicio 4: \n",
    "\n",
    "Implementa un código que haga la representación gráfica de una función de una variable en un dominio, por ejemplo, la función 3*x + 7.\n",
    "Nota: utiliza [matplotlib](https://matplotlib.org/)."
   ]
  },
  {
   "cell_type": "code",
   "execution_count": 41,
   "id": "ca2aa489",
   "metadata": {},
   "outputs": [
    {
     "data": {
      "image/png": "[encoded data removed]",
      "text/plain": [
       "<Figure size 800x600 with 1 Axes>"
      ]
     },
     "metadata": {},
     "output_type": "display_data"
    }
   ],
   "source": [
    "import matplotlib.pyplot as plt\n",
    "import numpy as np \n",
    "\n",
    "def f(x):\n",
    "    return 3*x + 7\n",
    "\n",
    "# Rango de valores de x\n",
    "x = np.linspace(-5, 5, 400)\n",
    "\n",
    "# Calcular los valores correspondientes de f(x)\n",
    "y = f(x)\n",
    "\n",
    "# Crear el gráfico\n",
    "plt.figure(figsize=(8, 6)) \n",
    "plt.plot(x, y, label = '$3*x + 7$', color='b')\n",
    "\n",
    "# Etiquetas y título\n",
    "plt.xlabel('x')\n",
    "plt.ylabel('f(x)')\n",
    "\n",
    "\n",
    "# Mostrar el gráfico\n",
    "plt.grid()\n",
    "plt.legend()\n",
    "plt.show()"
   ]
  },
  {
   "cell_type": "markdown",
   "id": "4a91404f",
   "metadata": {},
   "source": [
    "### Ejercicio 5: Vectores en el plano\n",
    "\n",
    "Imagina que sobre un objeto se aplican dos fuerzas en distintas direcciones, por ejemplo, dos personas tirando de una caja con dos cuerdas. La primera fuerza tiene una magnitud 10N y está en dirección Norte. La segunda fuerza tiene una magnitud 5 y está en dirección Este. ¿Cuál es la fuerza resultante? ¿Qué pasaría si la segunda fuerza estuviera en dirección Noreste?"
   ]
  },
  {
   "cell_type": "code",
   "execution_count": 2,
   "id": "e5c3a6e6",
   "metadata": {},
   "outputs": [
    {
     "name": "stdout",
     "output_type": "stream",
     "text": [
      "[ 5 10]\n"
     ]
    }
   ],
   "source": [
    "import numpy as np\n",
    "\n",
    "F1 = np.array([0,10])\n",
    "F2 = np.array([5,0])\n",
    "\n",
    "print(F1+F2)"
   ]
  },
  {
   "cell_type": "code",
   "execution_count": null,
   "id": "374685f3",
   "metadata": {},
   "outputs": [],
   "source": [
    "# Ahora el vector está en la dirección de la diagonal, para esto tenemos que multiplicar la magnitud \n",
    "# por un vector de norma 1 en esa dirección\n"
   ]
  },
  {
   "cell_type": "code",
   "execution_count": null,
   "id": "8dbf8549-0a12-49d5-ac7b-510c127ff4f0",
   "metadata": {},
   "outputs": [],
   "source": []
  },
  {
   "cell_type": "markdown",
   "id": "178ded52",
   "metadata": {},
   "source": [
    "### Ejercicio 6: Aplicación del producto escalar\n",
    "\n",
    "Queremos conocer el consumo de luz en nuestro home office, para lo cual usamos un medidor y anotamos el consumo de nuestros dispositivos por hora:\n",
    "\n",
    "- PC: 200W\n",
    "- Pantalla: 100W\n",
    "- Luces: 20W\n",
    "\n",
    "Usamos el PC y el monitor durante 8h al día, pero las luces solo durante hora y media. ¿Cómo podemos saber el consumo total?\n"
   ]
  },
  {
   "cell_type": "code",
   "execution_count": 72,
   "id": "291fda96",
   "metadata": {},
   "outputs": [
    {
     "name": "stdout",
     "output_type": "stream",
     "text": [
      "24076.0\n",
      "400096.0\n",
      "400096.0\n"
     ]
    }
   ],
   "source": [
    "pc = np.array([200,8])\n",
    "pantalla = np.array([100,8])\n",
    "luces = np.array([20,1.5])\n",
    "\n",
    "producto_escalar = sum(x*y for x, y in zip(pc, [pantalla[0]+luces[0], pantalla[1]+luces[1]]))\n",
    "print(producto_escalar)\n",
    "\n",
    "total = pc[0] * pantalla[0] * luces[0] + pc[1] * pantalla[1] * luces[1]\n",
    "print(total)\n",
    "\n",
    "total1 = [pc[0] * pantalla[0], pc[1] * pantalla[1]]\n",
    "total2 = total1[0] * luces[0] + total1[1] * luces[1]\n",
    "print(total2)"
   ]
  }
 ],
 "metadata": {
  "kernelspec": {
   "display_name": "Python 3 (ipykernel)",
   "language": "python",
   "name": "python3"
  },
  "language_info": {
   "codemirror_mode": {
    "name": "ipython",
    "version": 3
   },
   "file_extension": ".py",
   "mimetype": "text/x-python",
   "name": "python",
   "nbconvert_exporter": "python",
   "pygments_lexer": "ipython3",
   "version": "3.12.6"
  }
 },
 "nbformat": 4,
 "nbformat_minor": 5
}
